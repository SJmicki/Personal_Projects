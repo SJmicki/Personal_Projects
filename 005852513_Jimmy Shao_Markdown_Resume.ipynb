{
 "cells": [
  {
   "cell_type": "markdown",
   "id": "70c10098-b2f2-4a29-ac77-f2bb547fad74",
   "metadata": {
    "tags": []
   },
   "source": [
    "**<p style=\"text-align: center;\"> JIMMY (GUANXIONG) SHAO, CPA** </p>\n",
    "<p style=\"text-align: center;\"> <a href=\"https://www.linkedin.com/in/jimmygxshao/\" title=\"Jimmy Shao\">LinkedIn</a> | guanxiong.shao.2022@anderson.ucla.edu | (510) 672-5526 </p>\n",
    "<p style=\"text-align: center;\"> U.S. Permanent Resident </p>\n"
   ]
  },
  {
   "cell_type": "markdown",
   "id": "11592de8-514f-4a83-b5d9-ee44ee22b481",
   "metadata": {},
   "source": [
    "#### EDUCATION\n",
    "\n",
    "---\n",
    "**UCLA ANDERSON SCHOOL OF MANAGEMENT**; M.S. Business Analytics (Los Angeles, CA) </br>\n",
    "*Expected: Dec 2022* </br>\n",
    "*Coursework*: SQL & Basic Data Management, Python Optimization, Machine Learning for Decision Making,\n",
    "Economic & Business Forecasting, Game Theory, Operations Research </br>\n",
    "  \n",
    "**UNIVERSITY OF CALIFORNIA, SAN DIEGO**; B.S. Management Science (Economics); Minor in Accounting (San Diego, CA) </br>\n",
    "*Graduated March 2019* </br>\n",
    "GPA: 3.8 / 4.0 | Cum Laude with distinction </br>\n",
    "Activities: Undergraduate Accounting Society; Student Foundation Investment Committee"
   ]
  },
  {
   "cell_type": "markdown",
   "id": "0acbd8e5-e49e-4f4a-ba5f-835318e8a211",
   "metadata": {},
   "source": [
    "#### SKILLS\n",
    "\n",
    "---\n",
    "**Computer Languages**: Python (Pandas, Numpy, Matplotlit, Seaborn, Scikit-learn), SQL, R, Excel VBA </br>\n",
    "**Software**: Excel/Word/PowerPoint, Alteryx, Capital IQ, Salesforce, Preqin, Pitchbook, Photoshop </br>\n",
    "**Languages**: fluent in English and Mandarin; basic conversation in Japanese </br>\n"
   ]
  },
  {
   "cell_type": "markdown",
   "id": "4aabcd7b-d295-4c1f-8097-0cb1c7f7301c",
   "metadata": {},
   "source": [
    "#### EXPERIENCE\n",
    "\n",
    "---\n",
    "**ERNST & YOUNG** (Los Angeles, CA) </br>\n",
    "***Audit Associate | Financial Service Organization;*** *Sept 2019 – May 2021*\n",
    "+ Created data analysis and automation workflows using Alteryx and Excel VBA, reducing over 40 hours of manual work per year and eliminating data entry errors across various audit teams\n",
    "+ Cleaned and validated over 100k accounting data entries via Excel formulas and transformed the data into visual and descriptive reports, helping executives understand the business dynamics of the client\n",
    "+ Supervised teams using Excel trackers and built sustaining relationships with direct client contacts, ensuring timely and satisfactory execution of annual audits for private credit and hedge funds clients \n",
    "\n",
    "**EATON PARTNERS** (San Diego, CA) </br>\n",
    "***Private Capital Advisory Intern***; *Oct 2018 – Apr 2019*\n",
    "+ Updated financial models, marketing and transaction tracking materials in Excel and Powerpoint, facilitating senior members in the execution of private fund secondary transactions\n",
    "+ Conducted business development research from a population of 10k asset managers, narrowing to a shortlist of 20+ feasible targets with actionable rationales\n",
    "\n",
    "**TORREYCOVE CAPITAL PARTNERS (currently Aksia)** (La Jolla, CA) </br>\n",
    "***Risk Management Intern***; *Dec 2017 – May 2018*\n",
    "+ Improved data entry templates in Excel to auto-detect violations of client mandates and calculate pro rata profits and losses to respective investors, increasing daily data process speed by 25%\n",
    "\n",
    "\n"
   ]
  },
  {
   "cell_type": "markdown",
   "id": "94cc9ff3-0b7c-4a7e-bc46-0be3cbfc0dc9",
   "metadata": {},
   "source": [
    "#### SKILLS\n",
    "\n",
    "---\n",
    "**Titanic – Kaggle Competition**; *Aug 2021*\n",
    "+ Cleaned and visualized the correlations between features and survival status using Pandas, Numpy and Matplotlit, providing an intuition that help select and create appropriate features for modeling\n",
    "+ Used Scikit-learn to created machine learning models including Random Forest, Logistic Regression, K Nearest Neighbors and Cross Validation, improving prediction score by 5% from the baseline model\n",
    "\n",
    "**EY FutureHack Challenge** | Finalist (3rd); *Jan 2021*\n",
    "+ Proposed top-down ESG reporting framework based on needs of a global computer OEM by interviewing specialists, researching best practices and leveraging existing solutions\n",
    "+ Proposed plan will improve transparency of reporting, data validity and minimize data processing errors, helping the company keep track of the impact of their claims and enhance public confidence \n",
    "\n",
    "---\n",
    "\n",
    "**Hobbies**: Tennis, Skiing, Traveling, Video Games, Food, Reading up on tech/finance topics\n",
    "\n"
   ]
  }
 ],
 "metadata": {
  "kernelspec": {
   "display_name": "Python 3",
   "language": "python",
   "name": "python3"
  },
  "language_info": {
   "codemirror_mode": {
    "name": "ipython",
    "version": 3
   },
   "file_extension": ".py",
   "mimetype": "text/x-python",
   "name": "python",
   "nbconvert_exporter": "python",
   "pygments_lexer": "ipython3",
   "version": "3.8.8"
  }
 },
 "nbformat": 4,
 "nbformat_minor": 5
}
