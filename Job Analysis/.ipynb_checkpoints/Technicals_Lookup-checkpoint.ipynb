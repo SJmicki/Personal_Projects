{
 "cells": [
  {
   "cell_type": "markdown",
   "id": "267f72c6-d517-4556-8269-3df8fd654afa",
   "metadata": {},
   "source": [
    "# Technicals_Lookup\n",
    "---\n",
    "This project is intended to be used to analyze what (data science) technical skills are required by a job posting.  \n",
    "User should first save the job description to a `.txt` file or a `.csv` file locally.  \n",
    "When running the first code cell, user will be prompted to enter the directory of the job description.  \n",
    "Executing the entire notebook will print each technical skills and return a list of the technical skills \n"
   ]
  },
  {
   "cell_type": "markdown",
   "id": "fc22ecf0-e58b-47ef-9ec3-d7403decdaaf",
   "metadata": {},
   "source": [
    "---\n",
    "### identify_technicals\n",
    "Once the job description has been loaded, all texts are converted to lower case and most common punctuations are removed. Exception being `-` as hyphen is often used in the name of skillsets.  \n",
    "  \n",
    "Because most skillsets are either a single word or a two-word phrase, the program will use the `ngrams` method in the `nltk` package to extract one-gram and two-gram values from the job description text.\n",
    "  \n",
    "Once done, it compares a pre-determined list of common data science skillsets to the one-gram and two-gram arrays. Matched skillsets will be stored in a list and returned."
   ]
  },
  {
   "cell_type": "code",
   "execution_count": 1,
   "id": "c2737364-e1bb-43b6-9c7b-f226707bdefc",
   "metadata": {},
   "outputs": [],
   "source": [
    "def identify_technicals_txt(url):\n",
    "\n",
    "    import numpy as np\n",
    "    import re\n",
    "    from nltk import ngrams\n",
    "\n",
    "\n",
    "    df = open(url).read()\n",
    "    \n",
    "    df_lower = df.lower()\n",
    "    df_split = re.split(\",| |\\n|\\.|\\(|\\)|-\", df_lower)\n",
    "\n",
    "    onegram = ngrams(df_split, 1)\n",
    "    twogram = ngrams(df_split, 2)\n",
    "\n",
    "    onegrams = []\n",
    "    twograms = list(twogram)\n",
    "\n",
    "    for onegram in list(onegram):\n",
    "        onegrams.append(onegram[0])\n",
    "        \n",
    "    keywords = open(\"Keywords.txt\").read()\n",
    "    keywords_lower = keywords.lower()\n",
    "    keywords_split = keywords_lower.split(\",\\n\")\n",
    "\n",
    "\n",
    "    keywords_tuple = []\n",
    "\n",
    "    for keyword in keywords_split:\n",
    "        words = re.split(\"-| \", keyword)\n",
    "        if len(words) > 1:\n",
    "            words = tuple(words)\n",
    "        keywords_tuple.append(words)\n",
    "    \n",
    "    technicals = []\n",
    "\n",
    "    for gram in onegrams:\n",
    "        if gram not in technicals and gram in keywords_split:\n",
    "            technicals.append(gram)\n",
    "            \n",
    "    for gram in twograms:\n",
    "        if gram not in technicals and gram in keywords_tuple:\n",
    "            technicals.append(gram)\n",
    "    \n",
    "    return technicals"
   ]
  },
  {
   "cell_type": "code",
   "execution_count": 63,
   "id": "41fb3e82-9d25-4b76-9e2f-babc9984c575",
   "metadata": {},
   "outputs": [],
   "source": [
    "\n"
   ]
  },
  {
   "cell_type": "code",
   "execution_count": 71,
   "id": "bca3e2b4-745a-4f83-a563-65893e2855bf",
   "metadata": {},
   "outputs": [],
   "source": [
    "def identify_technicals_csv(url):\n",
    "\n",
    "    import numpy as np\n",
    "    import re\n",
    "    from nltk import ngrams\n",
    "    import pandas as pd\n",
    "\n",
    "\n",
    "    df = pd.read_csv(url)\n",
    "    df_desc = df.iloc[:, 4]\n",
    "\n",
    "    output = []\n",
    "\n",
    "    for row in range(len(df_desc)):\n",
    "        df_row = df_desc.iloc[row]\n",
    "\n",
    "        df_lower = df_row.lower()\n",
    "        df_split = re.split(\",| |\\n|\\.|\\(|\\)|-\", df_lower)\n",
    "\n",
    "        onegram = ngrams(df_split, 1)\n",
    "        twogram = ngrams(df_split, 2)\n",
    "\n",
    "        onegrams = []\n",
    "        twograms = list(twogram)\n",
    "\n",
    "        for onegram in list(onegram):\n",
    "            onegrams.append(onegram[0])\n",
    "\n",
    "        keywords = open(\"Keywords.txt\").read()\n",
    "        keywords_lower = keywords.lower()\n",
    "        keywords_split = keywords_lower.split(\",\\n\")\n",
    "\n",
    "\n",
    "        keywords_tuple = []\n",
    "\n",
    "        for keyword in keywords_split:\n",
    "            words = re.split(\"-| \", keyword)\n",
    "            if len(words) > 1:\n",
    "                words = tuple(words)\n",
    "            keywords_tuple.append(words)\n",
    "\n",
    "        technicals = []\n",
    "\n",
    "        for gram in onegrams:\n",
    "            if gram not in technicals and gram in keywords_split:\n",
    "                technicals.append(gram)\n",
    "\n",
    "        for gram in twograms:\n",
    "            if gram not in technicals and gram in keywords_tuple:\n",
    "                technicals.append(\"-\".join(gram))\n",
    "\n",
    "        output.append(\"; \".join(technicals))\n",
    "    \n",
    "    return output"
   ]
  },
  {
   "cell_type": "markdown",
   "id": "5cfaf2bc-848f-41d5-b452-87b1ef018528",
   "metadata": {},
   "source": [
    "---\n",
    "### print_technicals\n",
    "\n",
    "The below code cell will take the output from `identify_technicals` and print out the skillsets in order of the input array.    \n",
    "  \n",
    "Due to the difference between the data type of one-gram and two-gram in the technicals list, a `if` function will identify which type of gram it is and print accordingly."
   ]
  },
  {
   "cell_type": "code",
   "execution_count": 19,
   "id": "d602416b-a525-4e70-8020-59292e11ec41",
   "metadata": {},
   "outputs": [],
   "source": [
    "def print_technicals(technicals):\n",
    "\n",
    "    for item in technicals:\n",
    "        if type(item) != str:\n",
    "            print(\" \".join(item), end=\"; \")\n",
    "        \n",
    "        else:\n",
    "            print(item, end='; ')"
   ]
  },
  {
   "cell_type": "code",
   "execution_count": 65,
   "id": "d18e13f3-202e-4b2a-a8ee-3b6911b00283",
   "metadata": {},
   "outputs": [],
   "source": [
    "def save_csv_technicals(technicals):\n",
    "    output_pd = pd.DataFrame(technicals)\n",
    "    output_pd.to_csv(\"technicals_output.csv\")"
   ]
  },
  {
   "cell_type": "markdown",
   "id": "58b1207a-b4c8-4ebe-b89c-bf445ca429f3",
   "metadata": {},
   "source": [
    "---\n",
    "### Exectution - text \n",
    "Ask user to input job description file and run the file through `identify_technicals`"
   ]
  },
  {
   "cell_type": "code",
   "execution_count": 24,
   "id": "0ebf1888-63a9-4318-bdde-c41cd6b03936",
   "metadata": {},
   "outputs": [
    {
     "name": "stdin",
     "output_type": "stream",
     "text": [
      "Enter the url of the job description file:  temp.txt\n"
     ]
    }
   ],
   "source": [
    "job_description = str(input(\"Enter the url of the job description file: \"))\n",
    "\n",
    "technicals = identify_technicals(job_description)\n"
   ]
  },
  {
   "cell_type": "markdown",
   "id": "da49f1ee-ce1c-4d5f-aef1-f6d35b5857e1",
   "metadata": {},
   "source": [
    "Feed the output from `identify_technicals` into `print_technicals` "
   ]
  },
  {
   "cell_type": "code",
   "execution_count": 25,
   "id": "2dc9b454-4eed-4aea-b4e8-b1d8e1842393",
   "metadata": {},
   "outputs": [
    {
     "name": "stdout",
     "output_type": "stream",
     "text": [
      "List of technical skills: \n",
      "\n",
      "classification; "
     ]
    }
   ],
   "source": [
    "print(\"List of technical skills: \\n\")\n",
    "\n",
    "print_technicals(technicals)"
   ]
  },
  {
   "cell_type": "markdown",
   "id": "f3b2fa27-e0cc-4a40-ba3f-dc4424737557",
   "metadata": {},
   "source": [
    "---\n",
    "### Execution - csv"
   ]
  },
  {
   "cell_type": "code",
   "execution_count": 72,
   "id": "780092b8-4f69-429f-9b39-08d6c533bc07",
   "metadata": {},
   "outputs": [
    {
     "name": "stdin",
     "output_type": "stream",
     "text": [
      "Enter the url of the job description file:  Google_Job_Scrap_Output.csv\n"
     ]
    }
   ],
   "source": [
    "job_description = str(input(\"Enter the url of the job description file: \"))\n",
    "\n",
    "technicals = identify_technicals_csv(job_description)\n",
    "save_csv_technicals(technicals)\n"
   ]
  }
 ],
 "metadata": {
  "kernelspec": {
   "display_name": "Python 3",
   "language": "python",
   "name": "python3"
  },
  "language_info": {
   "codemirror_mode": {
    "name": "ipython",
    "version": 3
   },
   "file_extension": ".py",
   "mimetype": "text/x-python",
   "name": "python",
   "nbconvert_exporter": "python",
   "pygments_lexer": "ipython3",
   "version": "3.8.8"
  }
 },
 "nbformat": 4,
 "nbformat_minor": 5
}
