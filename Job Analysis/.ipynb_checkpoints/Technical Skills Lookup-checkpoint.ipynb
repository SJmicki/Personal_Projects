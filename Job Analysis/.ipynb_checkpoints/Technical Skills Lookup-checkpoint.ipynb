{
 "cells": [
  {
   "cell_type": "code",
   "execution_count": 46,
   "id": "c2737364-e1bb-43b6-9c7b-f226707bdefc",
   "metadata": {},
   "outputs": [
    {
     "name": "stdin",
     "output_type": "stream",
     "text": [
      "Enter the url of the job description file Book1.csv\n"
     ]
    }
   ],
   "source": [
    "import numpy as np\n",
    "import re\n",
    "from nltk import ngrams\n",
    "\n",
    "job_description = str(input(\"Enter the url of the job description file\"))\n",
    "\n",
    "df = open(job_description).read()\n",
    "df_lower = df.lower()\n",
    "df_split = re.split(\",| |\\n|\\.|\\(|\\)|-\", df_lower)\n",
    "\n",
    "onegram= ngrams(df_split, 1)\n",
    "twogram= ngrams(df_split, 2)\n",
    "\n",
    "onegrams = []\n",
    "twograms = list(twogram)\n",
    "\n",
    "for onegram in list(onegram):\n",
    "    onegrams.append(onegram[0])"
   ]
  },
  {
   "cell_type": "code",
   "execution_count": 47,
   "id": "97dc4962-0f21-4649-912f-4aa667ead784",
   "metadata": {},
   "outputs": [],
   "source": [
    "keywords = open(\"Keywords.txt\").read()\n",
    "keywords_lower = keywords.lower()\n",
    "keywords_split = keywords_lower.split(\",\\n\")\n",
    "\n",
    "\n",
    "keywords_tuple = []\n",
    "\n",
    "for keyword in keywords_split:\n",
    "    words = re.split(\"-| \", keyword)\n",
    "    if len(words) > 1:\n",
    "        words = tuple(words)\n",
    "    keywords_tuple.append(words)\n"
   ]
  },
  {
   "cell_type": "code",
   "execution_count": 48,
   "id": "0ba8c918-3598-48c3-aa54-0a6dbadbdfce",
   "metadata": {},
   "outputs": [],
   "source": [
    "technicals = []\n",
    "\n",
    "for gram in onegrams:\n",
    "    if gram not in technicals and gram in keywords_split:\n",
    "        technicals.append(gram)"
   ]
  },
  {
   "cell_type": "code",
   "execution_count": 49,
   "id": "ac4dd005-7007-4c41-9820-79fa99834e77",
   "metadata": {},
   "outputs": [],
   "source": [
    "for gram in twograms:\n",
    "    if gram not in technicals and gram in keywords_tuple:\n",
    "        technicals.append(gram)"
   ]
  },
  {
   "cell_type": "code",
   "execution_count": 50,
   "id": "f30cbe9e-1ae3-49a2-a26e-19e1b7e9199d",
   "metadata": {},
   "outputs": [
    {
     "name": "stdout",
     "output_type": "stream",
     "text": [
      "statistics\n",
      "r\n",
      "python\n",
      "julia\n",
      "java\n",
      "scala\n",
      "classification\n",
      "clustering\n",
      "arima\n",
      "tensorflow\n",
      "pytorch\n",
      "spark\n",
      "hive\n",
      "hadoop\n",
      "sql\n",
      "visualization\n",
      "tableau\n",
      "microstrategy\n",
      "data science\n",
      "ab testing\n",
      "business intelligence\n",
      "predictive modeling\n",
      "time series\n",
      "deep learning\n",
      "scikit learn\n"
     ]
    }
   ],
   "source": [
    "for item in technicals:\n",
    "    if type(item) != str:\n",
    "        print(\" \".join(item))\n",
    "    else:\n",
    "        print(item)"
   ]
  },
  {
   "cell_type": "code",
   "execution_count": null,
   "id": "0ebf1888-63a9-4318-bdde-c41cd6b03936",
   "metadata": {},
   "outputs": [],
   "source": []
  }
 ],
 "metadata": {
  "kernelspec": {
   "display_name": "Python 3",
   "language": "python",
   "name": "python3"
  },
  "language_info": {
   "codemirror_mode": {
    "name": "ipython",
    "version": 3
   },
   "file_extension": ".py",
   "mimetype": "text/x-python",
   "name": "python",
   "nbconvert_exporter": "python",
   "pygments_lexer": "ipython3",
   "version": "3.8.8"
  }
 },
 "nbformat": 4,
 "nbformat_minor": 5
}
