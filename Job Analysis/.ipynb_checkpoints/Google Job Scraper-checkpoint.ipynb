{
 "cells": [
  {
   "cell_type": "code",
   "execution_count": 1,
   "id": "9d972702-14c6-46ee-8ee3-bfc6c3e27b8b",
   "metadata": {},
   "outputs": [],
   "source": [
    "import requests\n",
    "from selenium import webdriver\n",
    "from selenium.webdriver.common.by import By\n",
    "from selenium.webdriver.support.ui import WebDriverWait\n",
    "from selenium.webdriver.support import expected_conditions as EC\n",
    "from selenium.common.exceptions import TimeoutException\n",
    "from bs4 import BeautifulSoup\n",
    "import pandas as pd"
   ]
  },
  {
   "cell_type": "code",
   "execution_count": 66,
   "id": "2aba389a-9634-4159-95ee-7a2d549d8632",
   "metadata": {},
   "outputs": [],
   "source": [
    "global total\n",
    "\n",
    "url = \"https://www.google.com/search?q=data+science+intern+summer+san+jose&rlz=1C1FKPE_enUS970US970&oq=google+job&aqs=chrome..69i57j69i60l3j69i65l3j69i60.883j0j7&sourceid=chrome&ie=UTF-8&ibp=htl;jobs&sa=X&ved=2ahUKEwiDloug5-TzAhVxLH0KHWbVCS0QutcGKAF6BAg4EAc&sxsrf=AOaemvK-236Hgt0TkDegbxgyHqTE6hzcjw:1635138945609#fpstate=tldetail&htivrt=jobs&htidocid=ZRgKu9-J8q4AAAAAAAAAAA%3D%3D\"\n",
    "browser = webdriver.Chrome(\"chromedriver.exe\")\n"
   ]
  },
  {
   "cell_type": "code",
   "execution_count": 67,
   "id": "b690c8a4-aebb-475b-87cd-b8d3cc703624",
   "metadata": {},
   "outputs": [],
   "source": [
    "browser.get(url)\n",
    "body = browser.page_source"
   ]
  },
  {
   "cell_type": "code",
   "execution_count": 68,
   "id": "25021aee-7741-4109-b2b2-4b1a2d79d30b",
   "metadata": {},
   "outputs": [],
   "source": [
    "browser.execute_script(\"window.scrollTo(600,500)\")\n",
    "browser.execute_script(\"window.scrollBy(0,1000)\")\n"
   ]
  },
  {
   "cell_type": "markdown",
   "id": "5a2c2771-7164-485e-992a-a9a3b9f7aa14",
   "metadata": {},
   "source": [
    "Should add something here to load more job entries before the html text is parsed and loaded to BeautifulSoup"
   ]
  },
  {
   "cell_type": "code",
   "execution_count": 69,
   "id": "3f1ac243-c971-40a4-bebe-2f9f8ff9e4a9",
   "metadata": {},
   "outputs": [],
   "source": [
    "soup = BeautifulSoup(body, 'html.parser')\n"
   ]
  },
  {
   "cell_type": "code",
   "execution_count": 70,
   "id": "7df7cbb6-eec6-4648-9692-0fa34bd54854",
   "metadata": {},
   "outputs": [],
   "source": [
    "summary = soup.find(\"body\", {'jsmodel':'hspDDf'}).find(\"div\", {'jscontroller':'O3IMbf'}).find(\"div\", {'jsname':'Qlzgvc'}).find(\"div\",{'jsname':'L5Pkqb'}).find(\"div\", {'class':'ZBwwL'}).find(\"div\", {'class':'lteri'})\n"
   ]
  },
  {
   "cell_type": "code",
   "execution_count": 71,
   "id": "a1f44211-efd6-41b9-84dd-2848ab889e49",
   "metadata": {},
   "outputs": [
    {
     "data": {
      "text/plain": [
       "['Data Scientist (Intern) United States',\n",
       " 'ML/Data Science Intern (Remote - Summer 2022)',\n",
       " 'Data Science Internship - San Jose, CA',\n",
       " 'Intern - Data Scientist - Summer 2022 - Nationwide/Remote',\n",
       " 'Data Scientist - Intern',\n",
       " 'Data Analytics Summer Intern I - Undergraduate',\n",
       " 'Data Scientist Intern',\n",
       " 'Intern - Finance Data Scientist - Summer 2022, Virtual- WFH or Hybrid...',\n",
       " 'Data Scientist Intern (Spring 2022 grads)',\n",
       " 'Intern - Finance Data Scientist - Summer 2022, CO or Virtual']"
      ]
     },
     "execution_count": 71,
     "metadata": {},
     "output_type": "execute_result"
    }
   ],
   "source": [
    "titles_html = summary.find_all(\"h2\")\n",
    "titles = []\n",
    "\n",
    "for h2 in titles_html:\n",
    "    titles.append(h2.get_text())\n",
    "    \n",
    "titles"
   ]
  },
  {
   "cell_type": "code",
   "execution_count": 72,
   "id": "e48813cd-a526-4e8b-8db4-35ecb9eee486",
   "metadata": {},
   "outputs": [
    {
     "name": "stdout",
     "output_type": "stream",
     "text": [
      "['Cisco', 'Splunk', 'Vectra AI', 'Lumen', 'eBay', 'Anthem', 'Johnson Controls Incorporated', 'Lumen', 'Zscaler', 'Lumen']\n",
      "['San Jose, CA', 'Anywhere', 'San Jose, CA', 'Anywhere', 'San Jose, CA', 'Anywhere', 'San Jose, CA', 'San Jose, CA', 'San Jose, CA', 'San Jose, CA']\n"
     ]
    }
   ],
   "source": [
    "comp_loc_html= summary.find_all(\"div\", attrs={\"class\":\"tJ9zfc\"})\n",
    "companies = []\n",
    "locations =[]\n",
    "\n",
    "for div in comp_loc_html:\n",
    "    comp = div.find(\"div\", {\"class\":\"nJlQNd sMzDkb\"})\n",
    "    companies.append(comp.get_text())\n",
    "    loc = comp.next_element.next_element\n",
    "    locations.append(loc.get_text())\n",
    "\n",
    "print(companies)\n",
    "print(locations)"
   ]
  },
  {
   "cell_type": "code",
   "execution_count": 73,
   "id": "73e69699-b186-49bb-8e62-7c5e6f0177d4",
   "metadata": {},
   "outputs": [],
   "source": [
    "description_html = summary.find_all(\"span\", {'class':'HBvzbc'})\n",
    "\n",
    "descriptions = []\n",
    "\n",
    "for desc in description_html:\n",
    "    descriptions.append(desc.get_text())\n"
   ]
  },
  {
   "cell_type": "code",
   "execution_count": 74,
   "id": "fdece93e-f90c-4e06-9509-a4aca4f8e89b",
   "metadata": {},
   "outputs": [
    {
     "data": {
      "text/html": [
       "<div>\n",
       "<style scoped>\n",
       "    .dataframe tbody tr th:only-of-type {\n",
       "        vertical-align: middle;\n",
       "    }\n",
       "\n",
       "    .dataframe tbody tr th {\n",
       "        vertical-align: top;\n",
       "    }\n",
       "\n",
       "    .dataframe thead th {\n",
       "        text-align: right;\n",
       "    }\n",
       "</style>\n",
       "<table border=\"1\" class=\"dataframe\">\n",
       "  <thead>\n",
       "    <tr style=\"text-align: right;\">\n",
       "      <th></th>\n",
       "      <th>Job Title</th>\n",
       "      <th>company</th>\n",
       "      <th>location</th>\n",
       "      <th>Description</th>\n",
       "    </tr>\n",
       "  </thead>\n",
       "  <tbody>\n",
       "    <tr>\n",
       "      <th>0</th>\n",
       "      <td>Data Scientist (Intern) United States</td>\n",
       "      <td>Cisco</td>\n",
       "      <td>San Jose, CA</td>\n",
       "      <td>What You’ll Do\\n• Acquire, clean and structure...</td>\n",
       "    </tr>\n",
       "    <tr>\n",
       "      <th>1</th>\n",
       "      <td>ML/Data Science Intern (Remote - Summer 2022)</td>\n",
       "      <td>Splunk</td>\n",
       "      <td>Anywhere</td>\n",
       "      <td>Join us as we pursue our disruptive new vision...</td>\n",
       "    </tr>\n",
       "    <tr>\n",
       "      <th>2</th>\n",
       "      <td>Data Science Internship - San Jose, CA</td>\n",
       "      <td>Vectra AI</td>\n",
       "      <td>San Jose, CA</td>\n",
       "      <td>Data Scientist Intern\\n\\nat Vectra AI...\\n\\nSa...</td>\n",
       "    </tr>\n",
       "    <tr>\n",
       "      <th>3</th>\n",
       "      <td>Intern - Data Scientist - Summer 2022 - Nation...</td>\n",
       "      <td>Lumen</td>\n",
       "      <td>Anywhere</td>\n",
       "      <td>**ABOUT LUMEN**\\n\\nLumen is guided by our beli...</td>\n",
       "    </tr>\n",
       "    <tr>\n",
       "      <th>4</th>\n",
       "      <td>Data Scientist - Intern</td>\n",
       "      <td>eBay</td>\n",
       "      <td>San Jose, CA</td>\n",
       "      <td>Data Scientist - Intern\\n\\n12-week Summer Inte...</td>\n",
       "    </tr>\n",
       "    <tr>\n",
       "      <th>5</th>\n",
       "      <td>Data Analytics Summer Intern I - Undergraduate</td>\n",
       "      <td>Anthem</td>\n",
       "      <td>Anywhere</td>\n",
       "      <td>Job Description\\nDESCRIPTION\\n...\\nSHIFT: Day ...</td>\n",
       "    </tr>\n",
       "    <tr>\n",
       "      <th>6</th>\n",
       "      <td>Data Scientist Intern</td>\n",
       "      <td>Johnson Controls Incorporated</td>\n",
       "      <td>San Jose, CA</td>\n",
       "      <td>Data Scientist Intern\\n\\nUnited States of Amer...</td>\n",
       "    </tr>\n",
       "    <tr>\n",
       "      <th>7</th>\n",
       "      <td>Intern - Finance Data Scientist - Summer 2022,...</td>\n",
       "      <td>Lumen</td>\n",
       "      <td>San Jose, CA</td>\n",
       "      <td>Job Description\\nABOUT LUMEN\\n\\nLumen is guide...</td>\n",
       "    </tr>\n",
       "    <tr>\n",
       "      <th>8</th>\n",
       "      <td>Data Scientist Intern (Spring 2022 grads)</td>\n",
       "      <td>Zscaler</td>\n",
       "      <td>San Jose, CA</td>\n",
       "      <td>Company Description\\n\\nZscaler (NASDAQ: ZS) ac...</td>\n",
       "    </tr>\n",
       "    <tr>\n",
       "      <th>9</th>\n",
       "      <td>Intern - Finance Data Scientist - Summer 2022,...</td>\n",
       "      <td>Lumen</td>\n",
       "      <td>San Jose, CA</td>\n",
       "      <td>Job Description\\nABOUT LUMEN\\n...\\nLumen is gu...</td>\n",
       "    </tr>\n",
       "  </tbody>\n",
       "</table>\n",
       "</div>"
      ],
      "text/plain": [
       "                                           Job Title  \\\n",
       "0              Data Scientist (Intern) United States   \n",
       "1      ML/Data Science Intern (Remote - Summer 2022)   \n",
       "2             Data Science Internship - San Jose, CA   \n",
       "3  Intern - Data Scientist - Summer 2022 - Nation...   \n",
       "4                            Data Scientist - Intern   \n",
       "5     Data Analytics Summer Intern I - Undergraduate   \n",
       "6                              Data Scientist Intern   \n",
       "7  Intern - Finance Data Scientist - Summer 2022,...   \n",
       "8          Data Scientist Intern (Spring 2022 grads)   \n",
       "9  Intern - Finance Data Scientist - Summer 2022,...   \n",
       "\n",
       "                         company      location  \\\n",
       "0                          Cisco  San Jose, CA   \n",
       "1                         Splunk      Anywhere   \n",
       "2                      Vectra AI  San Jose, CA   \n",
       "3                          Lumen      Anywhere   \n",
       "4                           eBay  San Jose, CA   \n",
       "5                         Anthem      Anywhere   \n",
       "6  Johnson Controls Incorporated  San Jose, CA   \n",
       "7                          Lumen  San Jose, CA   \n",
       "8                        Zscaler  San Jose, CA   \n",
       "9                          Lumen  San Jose, CA   \n",
       "\n",
       "                                         Description  \n",
       "0  What You’ll Do\\n• Acquire, clean and structure...  \n",
       "1  Join us as we pursue our disruptive new vision...  \n",
       "2  Data Scientist Intern\\n\\nat Vectra AI...\\n\\nSa...  \n",
       "3  **ABOUT LUMEN**\\n\\nLumen is guided by our beli...  \n",
       "4  Data Scientist - Intern\\n\\n12-week Summer Inte...  \n",
       "5  Job Description\\nDESCRIPTION\\n...\\nSHIFT: Day ...  \n",
       "6  Data Scientist Intern\\n\\nUnited States of Amer...  \n",
       "7  Job Description\\nABOUT LUMEN\\n\\nLumen is guide...  \n",
       "8  Company Description\\n\\nZscaler (NASDAQ: ZS) ac...  \n",
       "9  Job Description\\nABOUT LUMEN\\n...\\nLumen is gu...  "
      ]
     },
     "execution_count": 74,
     "metadata": {},
     "output_type": "execute_result"
    }
   ],
   "source": [
    "results = pd.DataFrame({'Job Title':titles, 'company':companies, 'location':locations, 'Description':descriptions})\n",
    "results"
   ]
  },
  {
   "cell_type": "code",
   "execution_count": 76,
   "id": "8dabfcc8-51e0-4ecb-ad35-43bdef6f479c",
   "metadata": {},
   "outputs": [],
   "source": [
    "results.to_csv('Google_Job_Scrap_Output.csv')"
   ]
  }
 ],
 "metadata": {
  "kernelspec": {
   "display_name": "Python 3",
   "language": "python",
   "name": "python3"
  },
  "language_info": {
   "codemirror_mode": {
    "name": "ipython",
    "version": 3
   },
   "file_extension": ".py",
   "mimetype": "text/x-python",
   "name": "python",
   "nbconvert_exporter": "python",
   "pygments_lexer": "ipython3",
   "version": "3.8.8"
  }
 },
 "nbformat": 4,
 "nbformat_minor": 5
}
